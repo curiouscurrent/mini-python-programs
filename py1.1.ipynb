{
 "cells": [
  {
   "cell_type": "code",
   "execution_count": 1,
   "id": "2f89c4ce",
   "metadata": {},
   "outputs": [
    {
     "data": {
      "text/plain": [
       "11"
      ]
     },
     "execution_count": 1,
     "metadata": {},
     "output_type": "execute_result"
    }
   ],
   "source": [
    "a=5\n",
    "b=6\n",
    "c=a+b\n",
    "c"
   ]
  },
  {
   "cell_type": "code",
   "execution_count": 10,
   "id": "7c791644",
   "metadata": {},
   "outputs": [
    {
     "name": "stdout",
     "output_type": "stream",
     "text": [
      "10\n",
      "9\n",
      "8\n",
      "7\n",
      "6\n",
      "5\n",
      "4\n",
      "3\n",
      "2\n"
     ]
    }
   ],
   "source": [
    "for i in range(10,1,-1):\n",
    "    print(i)"
   ]
  },
  {
   "cell_type": "code",
   "execution_count": 11,
   "id": "fb1f92bf",
   "metadata": {},
   "outputs": [
    {
     "name": "stdout",
     "output_type": "stream",
     "text": [
      "10\n",
      "8\n",
      "6\n",
      "4\n",
      "2\n"
     ]
    }
   ],
   "source": [
    "for i in range(10,1,-2):\n",
    "    print(i)"
   ]
  },
  {
   "cell_type": "code",
   "execution_count": 13,
   "id": "2bb73344",
   "metadata": {},
   "outputs": [
    {
     "name": "stdout",
     "output_type": "stream",
     "text": [
      "0\n",
      "1\n",
      "2\n",
      "3\n",
      "4\n",
      "5\n",
      "6\n",
      "7\n",
      "8\n",
      "9\n",
      "10\n"
     ]
    }
   ],
   "source": [
    "i=0\n",
    "while i<=10:\n",
    "    print(i)\n",
    "    i+=1 #i=i+1"
   ]
  },
  {
   "cell_type": "code",
   "execution_count": null,
   "id": "f6b235d0",
   "metadata": {},
   "outputs": [],
   "source": [
    "#basics of for and while loop above"
   ]
  },
  {
   "cell_type": "code",
   "execution_count": 14,
   "id": "0e3bd31c",
   "metadata": {},
   "outputs": [
    {
     "name": "stdout",
     "output_type": "stream",
     "text": [
      "Collecting opencv-python\n",
      "  Downloading opencv_python-4.7.0.72-cp37-abi3-win_amd64.whl (38.2 MB)\n",
      "                                              0.0/38.2 MB ? eta -:--:--\n",
      "                                              0.1/38.2 MB 3.3 MB/s eta 0:00:12\n",
      "                                              0.3/38.2 MB 3.2 MB/s eta 0:00:13\n",
      "                                              0.5/38.2 MB 3.5 MB/s eta 0:00:11\n",
      "                                              0.8/38.2 MB 4.5 MB/s eta 0:00:09\n",
      "     -                                        1.1/38.2 MB 5.0 MB/s eta 0:00:08\n",
      "     -                                        1.4/38.2 MB 5.4 MB/s eta 0:00:07\n",
      "     -                                        1.8/38.2 MB 5.7 MB/s eta 0:00:07\n",
      "     --                                       2.1/38.2 MB 5.7 MB/s eta 0:00:07\n",
      "     --                                       2.1/38.2 MB 5.7 MB/s eta 0:00:07\n",
      "     --                                       2.1/38.2 MB 4.6 MB/s eta 0:00:08\n",
      "     ---                                      3.1/38.2 MB 6.3 MB/s eta 0:00:06\n",
      "     ---                                      3.5/38.2 MB 6.4 MB/s eta 0:00:06\n",
      "     ---                                      3.7/38.2 MB 6.4 MB/s eta 0:00:06\n",
      "     ---                                      3.7/38.2 MB 6.4 MB/s eta 0:00:06\n",
      "     ----                                     4.5/38.2 MB 6.5 MB/s eta 0:00:06\n",
      "     -----                                    4.9/38.2 MB 6.5 MB/s eta 0:00:06\n",
      "     -----                                    5.2/38.2 MB 6.5 MB/s eta 0:00:06\n",
      "     -----                                    5.5/38.2 MB 6.7 MB/s eta 0:00:05\n",
      "     ------                                   5.9/38.2 MB 6.6 MB/s eta 0:00:05\n",
      "     ------                                   6.2/38.2 MB 6.6 MB/s eta 0:00:05\n",
      "     ------                                   6.6/38.2 MB 6.7 MB/s eta 0:00:05\n",
      "     -------                                  6.9/38.2 MB 6.7 MB/s eta 0:00:05\n",
      "     -------                                  7.2/38.2 MB 6.7 MB/s eta 0:00:05\n",
      "     -------                                  7.6/38.2 MB 6.7 MB/s eta 0:00:05\n",
      "     --------                                 7.9/38.2 MB 6.8 MB/s eta 0:00:05\n",
      "     --------                                 8.3/38.2 MB 6.8 MB/s eta 0:00:05\n",
      "     ---------                                8.6/38.2 MB 6.8 MB/s eta 0:00:05\n",
      "     ---------                                9.0/38.2 MB 6.8 MB/s eta 0:00:05\n",
      "     ---------                                9.3/38.2 MB 6.8 MB/s eta 0:00:05\n",
      "     ----------                               9.6/38.2 MB 6.8 MB/s eta 0:00:05\n",
      "     ----------                               10.0/38.2 MB 6.9 MB/s eta 0:00:05\n",
      "     ----------                               10.3/38.2 MB 6.8 MB/s eta 0:00:05\n",
      "     -----------                              10.5/38.2 MB 7.0 MB/s eta 0:00:04\n",
      "     -----------                              10.9/38.2 MB 7.1 MB/s eta 0:00:04\n",
      "     -----------                              11.1/38.2 MB 7.1 MB/s eta 0:00:04\n",
      "     -----------                              11.4/38.2 MB 7.0 MB/s eta 0:00:04\n",
      "     ------------                             11.7/38.2 MB 7.0 MB/s eta 0:00:04\n",
      "     ------------                             11.7/38.2 MB 6.8 MB/s eta 0:00:04\n",
      "     ------------                             12.0/38.2 MB 6.7 MB/s eta 0:00:04\n",
      "     ------------                             12.3/38.2 MB 6.7 MB/s eta 0:00:04\n",
      "     -------------                            12.5/38.2 MB 7.0 MB/s eta 0:00:04\n",
      "     -------------                            12.8/38.2 MB 6.9 MB/s eta 0:00:04\n",
      "     -------------                            13.1/38.2 MB 6.7 MB/s eta 0:00:04\n",
      "     --------------                           13.4/38.2 MB 6.6 MB/s eta 0:00:04\n",
      "     --------------                           13.7/38.2 MB 6.5 MB/s eta 0:00:04\n",
      "     --------------                           14.0/38.2 MB 6.9 MB/s eta 0:00:04\n",
      "     --------------                           14.0/38.2 MB 7.0 MB/s eta 0:00:04\n",
      "     --------------                           14.0/38.2 MB 7.0 MB/s eta 0:00:04\n",
      "     ---------------                          14.6/38.2 MB 6.4 MB/s eta 0:00:04\n",
      "     ---------------                          14.7/38.2 MB 6.2 MB/s eta 0:00:04\n",
      "     ----------------                         15.6/38.2 MB 6.5 MB/s eta 0:00:04\n",
      "     ----------------                         16.0/38.2 MB 6.5 MB/s eta 0:00:04\n",
      "     ----------------                         16.2/38.2 MB 6.5 MB/s eta 0:00:04\n",
      "     ----------------                         16.2/38.2 MB 6.5 MB/s eta 0:00:04\n",
      "     ----------------                         16.2/38.2 MB 6.5 MB/s eta 0:00:04\n",
      "     -----------------                        16.8/38.2 MB 6.3 MB/s eta 0:00:04\n",
      "     ------------------                       17.6/38.2 MB 6.5 MB/s eta 0:00:04\n",
      "     ------------------                       17.7/38.2 MB 6.5 MB/s eta 0:00:04\n",
      "     ------------------                       18.0/38.2 MB 6.4 MB/s eta 0:00:04\n",
      "     ------------------                       18.0/38.2 MB 6.4 MB/s eta 0:00:04\n",
      "     ------------------                       18.0/38.2 MB 6.4 MB/s eta 0:00:04\n",
      "     -------------------                      19.0/38.2 MB 6.3 MB/s eta 0:00:04\n",
      "     --------------------                     19.3/38.2 MB 6.3 MB/s eta 0:00:03\n",
      "     --------------------                     19.7/38.2 MB 6.3 MB/s eta 0:00:03\n",
      "     --------------------                     20.0/38.2 MB 6.3 MB/s eta 0:00:03\n",
      "     ---------------------                    20.3/38.2 MB 6.3 MB/s eta 0:00:03\n",
      "     ---------------------                    20.7/38.2 MB 6.4 MB/s eta 0:00:03\n",
      "     ----------------------                   21.0/38.2 MB 6.4 MB/s eta 0:00:03\n",
      "     ----------------------                   21.4/38.2 MB 6.4 MB/s eta 0:00:03\n",
      "     ----------------------                   21.7/38.2 MB 6.4 MB/s eta 0:00:03\n",
      "     -----------------------                  22.0/38.2 MB 6.7 MB/s eta 0:00:03\n",
      "     -----------------------                  22.4/38.2 MB 6.7 MB/s eta 0:00:03\n",
      "     -----------------------                  22.7/38.2 MB 6.8 MB/s eta 0:00:03\n",
      "     ------------------------                 23.1/38.2 MB 6.8 MB/s eta 0:00:03\n",
      "     ------------------------                 23.4/38.2 MB 6.9 MB/s eta 0:00:03\n",
      "     ------------------------                 23.8/38.2 MB 6.9 MB/s eta 0:00:03\n",
      "     -------------------------                24.1/38.2 MB 7.0 MB/s eta 0:00:03\n",
      "     -------------------------                24.4/38.2 MB 7.4 MB/s eta 0:00:02\n",
      "     -------------------------                24.8/38.2 MB 7.2 MB/s eta 0:00:02\n",
      "     --------------------------               25.1/38.2 MB 7.3 MB/s eta 0:00:02\n",
      "     --------------------------               25.1/38.2 MB 7.3 MB/s eta 0:00:02\n",
      "     --------------------------               25.1/38.2 MB 7.3 MB/s eta 0:00:02\n",
      "     --------------------------               25.6/38.2 MB 6.7 MB/s eta 0:00:02\n",
      "     ---------------------------              26.5/38.2 MB 7.5 MB/s eta 0:00:02\n",
      "     ---------------------------              26.5/38.2 MB 7.3 MB/s eta 0:00:02\n",
      "     ----------------------------             26.9/38.2 MB 7.1 MB/s eta 0:00:02\n",
      "     ----------------------------             27.2/38.2 MB 7.1 MB/s eta 0:00:02\n",
      "     ----------------------------             27.6/38.2 MB 7.0 MB/s eta 0:00:02\n",
      "     -----------------------------            27.9/38.2 MB 6.8 MB/s eta 0:00:02\n",
      "     -----------------------------            28.2/38.2 MB 7.0 MB/s eta 0:00:02\n",
      "     -----------------------------            28.6/38.2 MB 7.4 MB/s eta 0:00:02\n",
      "     ------------------------------           28.9/38.2 MB 7.3 MB/s eta 0:00:02\n",
      "     ------------------------------           29.2/38.2 MB 7.0 MB/s eta 0:00:02\n",
      "     -------------------------------          29.6/38.2 MB 7.0 MB/s eta 0:00:02\n",
      "     -------------------------------          29.9/38.2 MB 7.0 MB/s eta 0:00:02\n",
      "     -------------------------------          30.2/38.2 MB 7.0 MB/s eta 0:00:02\n",
      "     -------------------------------          30.4/38.2 MB 6.8 MB/s eta 0:00:02\n",
      "     --------------------------------         30.7/38.2 MB 6.8 MB/s eta 0:00:02\n",
      "     --------------------------------         31.1/38.2 MB 6.8 MB/s eta 0:00:02\n",
      "     --------------------------------         31.4/38.2 MB 6.8 MB/s eta 0:00:01\n",
      "     ---------------------------------        31.8/38.2 MB 6.8 MB/s eta 0:00:01\n",
      "     ---------------------------------        32.1/38.2 MB 6.8 MB/s eta 0:00:01\n",
      "     ---------------------------------        32.4/38.2 MB 6.8 MB/s eta 0:00:01\n",
      "     ----------------------------------       32.8/38.2 MB 6.8 MB/s eta 0:00:01\n",
      "     ----------------------------------       33.1/38.2 MB 6.8 MB/s eta 0:00:01\n",
      "     -----------------------------------      33.6/38.2 MB 6.8 MB/s eta 0:00:01\n",
      "     -----------------------------------      33.9/38.2 MB 6.8 MB/s eta 0:00:01\n",
      "     -----------------------------------      34.2/38.2 MB 6.8 MB/s eta 0:00:01\n",
      "     ------------------------------------     34.6/38.2 MB 6.8 MB/s eta 0:00:01\n",
      "     ------------------------------------     34.9/38.2 MB 6.8 MB/s eta 0:00:01\n",
      "     ------------------------------------     35.3/38.2 MB 6.9 MB/s eta 0:00:01\n",
      "     -------------------------------------    35.6/38.2 MB 7.3 MB/s eta 0:00:01\n",
      "     -------------------------------------    36.0/38.2 MB 7.3 MB/s eta 0:00:01\n",
      "     --------------------------------------   36.3/38.2 MB 7.0 MB/s eta 0:00:01\n",
      "     --------------------------------------   36.6/38.2 MB 6.9 MB/s eta 0:00:01\n",
      "     --------------------------------------   36.9/38.2 MB 7.0 MB/s eta 0:00:01\n",
      "     ---------------------------------------  37.3/38.2 MB 7.0 MB/s eta 0:00:01\n",
      "     ---------------------------------------  37.7/38.2 MB 7.0 MB/s eta 0:00:01\n",
      "     ---------------------------------------  38.0/38.2 MB 7.0 MB/s eta 0:00:01\n",
      "     ---------------------------------------  38.1/38.2 MB 6.9 MB/s eta 0:00:01\n",
      "     ---------------------------------------  38.2/38.2 MB 6.9 MB/s eta 0:00:01\n",
      "     ---------------------------------------  38.2/38.2 MB 6.9 MB/s eta 0:00:01\n",
      "     ---------------------------------------  38.2/38.2 MB 6.9 MB/s eta 0:00:01\n",
      "     ---------------------------------------  38.2/38.2 MB 6.9 MB/s eta 0:00:01\n",
      "     ---------------------------------------  38.2/38.2 MB 6.9 MB/s eta 0:00:01\n",
      "     ---------------------------------------  38.2/38.2 MB 6.9 MB/s eta 0:00:01\n",
      "     ---------------------------------------- 38.2/38.2 MB 5.6 MB/s eta 0:00:00\n",
      "Requirement already satisfied: numpy>=1.21.2 in c:\\users\\anusha\\appdata\\local\\programs\\python\\python311\\lib\\site-packages (from opencv-python) (1.24.2)\n",
      "Installing collected packages: opencv-python\n",
      "Successfully installed opencv-python-4.7.0.72\n",
      "Note: you may need to restart the kernel to use updated packages.\n"
     ]
    }
   ],
   "source": [
    "pip install opencv-python\n"
   ]
  },
  {
   "cell_type": "code",
   "execution_count": 15,
   "id": "6189f605",
   "metadata": {},
   "outputs": [
    {
     "name": "stdout",
     "output_type": "stream",
     "text": [
      "Collecting opencv-contrib-pythonNote: you may need to restart the kernel to use updated packages.\n",
      "\n",
      "  Downloading opencv_contrib_python-4.7.0.72-cp37-abi3-win_amd64.whl (44.9 MB)\n",
      "                                              0.0/44.9 MB ? eta -:--:--\n",
      "                                              0.1/44.9 MB ? eta -:--:--\n",
      "                                              0.3/44.9 MB 5.7 MB/s eta 0:00:08\n",
      "                                              0.5/44.9 MB 4.9 MB/s eta 0:00:10\n",
      "                                              0.8/44.9 MB 5.6 MB/s eta 0:00:08\n",
      "                                              1.1/44.9 MB 5.7 MB/s eta 0:00:08\n",
      "     -                                        1.5/44.9 MB 6.1 MB/s eta 0:00:08\n",
      "     -                                        1.6/44.9 MB 5.6 MB/s eta 0:00:08\n",
      "     -                                        1.9/44.9 MB 5.7 MB/s eta 0:00:08\n",
      "     -                                        2.2/44.9 MB 5.9 MB/s eta 0:00:08\n",
      "     --                                       2.5/44.9 MB 6.0 MB/s eta 0:00:08\n",
      "     --                                       2.9/44.9 MB 6.1 MB/s eta 0:00:07\n",
      "     --                                       3.0/44.9 MB 5.8 MB/s eta 0:00:08\n",
      "     --                                       3.3/44.9 MB 5.9 MB/s eta 0:00:08\n",
      "     ---                                      3.7/44.9 MB 6.0 MB/s eta 0:00:07\n",
      "     ---                                      4.0/44.9 MB 6.1 MB/s eta 0:00:07\n",
      "     ---                                      4.2/44.9 MB 6.1 MB/s eta 0:00:07\n",
      "     ----                                     4.6/44.9 MB 6.1 MB/s eta 0:00:07\n",
      "     ----                                     4.9/44.9 MB 6.1 MB/s eta 0:00:07\n",
      "     ----                                     5.2/44.9 MB 6.2 MB/s eta 0:00:07\n",
      "     ----                                     5.6/44.9 MB 6.3 MB/s eta 0:00:07\n",
      "     -----                                    5.9/44.9 MB 6.3 MB/s eta 0:00:07\n",
      "     -----                                    6.2/44.9 MB 6.3 MB/s eta 0:00:07\n",
      "     -----                                    6.5/44.9 MB 6.3 MB/s eta 0:00:07\n",
      "     ------                                   6.9/44.9 MB 6.4 MB/s eta 0:00:06\n",
      "     ------                                   7.2/44.9 MB 6.4 MB/s eta 0:00:06\n",
      "     ------                                   7.5/44.9 MB 6.4 MB/s eta 0:00:06\n",
      "     ------                                   7.7/44.9 MB 6.3 MB/s eta 0:00:06\n",
      "     -------                                  7.9/44.9 MB 6.2 MB/s eta 0:00:06\n",
      "     -------                                  8.2/44.9 MB 6.2 MB/s eta 0:00:06\n",
      "     -------                                  8.5/44.9 MB 6.3 MB/s eta 0:00:06\n",
      "     -------                                  8.9/44.9 MB 6.3 MB/s eta 0:00:06\n",
      "     -------                                  8.9/44.9 MB 6.3 MB/s eta 0:00:06\n",
      "     -------                                  8.9/44.9 MB 6.3 MB/s eta 0:00:06\n",
      "     --------                                 9.0/44.9 MB 5.8 MB/s eta 0:00:07\n",
      "     --------                                 9.7/44.9 MB 6.2 MB/s eta 0:00:06\n",
      "     ---------                                10.4/44.9 MB 6.4 MB/s eta 0:00:06\n",
      "     ---------                                10.7/44.9 MB 6.4 MB/s eta 0:00:06\n",
      "     ---------                                11.0/44.9 MB 6.4 MB/s eta 0:00:06\n",
      "     ----------                               11.3/44.9 MB 6.4 MB/s eta 0:00:06\n",
      "     ----------                               11.6/44.9 MB 6.4 MB/s eta 0:00:06\n",
      "     ----------                               11.9/44.9 MB 6.5 MB/s eta 0:00:06\n",
      "     ----------                               12.2/44.9 MB 6.4 MB/s eta 0:00:06\n",
      "     -----------                              12.6/44.9 MB 6.5 MB/s eta 0:00:05\n",
      "     -----------                              12.7/44.9 MB 6.3 MB/s eta 0:00:06\n",
      "     -----------                              13.0/44.9 MB 6.3 MB/s eta 0:00:06\n",
      "     -----------                              13.3/44.9 MB 6.4 MB/s eta 0:00:05\n",
      "     ------------                             13.6/44.9 MB 6.5 MB/s eta 0:00:05\n",
      "     ------------                             14.0/44.9 MB 6.4 MB/s eta 0:00:05\n",
      "     ------------                             14.3/44.9 MB 6.5 MB/s eta 0:00:05\n",
      "     -------------                            14.6/44.9 MB 6.4 MB/s eta 0:00:05\n",
      "     -------------                            14.9/44.9 MB 6.4 MB/s eta 0:00:05\n",
      "     -------------                            15.2/44.9 MB 6.4 MB/s eta 0:00:05\n",
      "     -------------                            15.6/44.9 MB 6.4 MB/s eta 0:00:05\n",
      "     --------------                           15.8/44.9 MB 6.4 MB/s eta 0:00:05\n",
      "     --------------                           16.1/44.9 MB 6.4 MB/s eta 0:00:05\n",
      "     --------------                           16.4/44.9 MB 6.4 MB/s eta 0:00:05\n",
      "     --------------                           16.8/44.9 MB 6.4 MB/s eta 0:00:05\n",
      "     ---------------                          17.3/44.9 MB 6.5 MB/s eta 0:00:05\n",
      "     ---------------                          17.7/44.9 MB 6.5 MB/s eta 0:00:05\n",
      "     ----------------                         18.0/44.9 MB 6.6 MB/s eta 0:00:05\n",
      "     ----------------                         18.3/44.9 MB 6.7 MB/s eta 0:00:04\n",
      "     ----------------                         18.7/44.9 MB 6.8 MB/s eta 0:00:04\n",
      "     ----------------                         19.0/44.9 MB 6.7 MB/s eta 0:00:04\n",
      "     -----------------                        19.4/44.9 MB 7.3 MB/s eta 0:00:04\n",
      "     -----------------                        19.5/44.9 MB 7.3 MB/s eta 0:00:04\n",
      "     -----------------                        19.5/44.9 MB 7.3 MB/s eta 0:00:04\n",
      "     ------------------                       20.4/44.9 MB 6.9 MB/s eta 0:00:04\n",
      "     ------------------                       20.7/44.9 MB 6.8 MB/s eta 0:00:04\n",
      "     ------------------                       21.1/44.9 MB 6.8 MB/s eta 0:00:04\n",
      "     ------------------                       21.1/44.9 MB 6.7 MB/s eta 0:00:04\n",
      "     -------------------                      21.5/44.9 MB 6.7 MB/s eta 0:00:04\n",
      "     -------------------                      21.8/44.9 MB 6.7 MB/s eta 0:00:04\n",
      "     -------------------                      22.1/44.9 MB 6.7 MB/s eta 0:00:04\n",
      "     --------------------                     22.5/44.9 MB 6.8 MB/s eta 0:00:04\n",
      "     --------------------                     22.8/44.9 MB 6.8 MB/s eta 0:00:04\n",
      "     --------------------                     23.2/44.9 MB 7.0 MB/s eta 0:00:04\n",
      "     --------------------                     23.5/44.9 MB 7.0 MB/s eta 0:00:04\n",
      "     ---------------------                    23.8/44.9 MB 7.0 MB/s eta 0:00:04\n",
      "     ---------------------                    24.2/44.9 MB 7.0 MB/s eta 0:00:03\n",
      "     ---------------------                    24.5/44.9 MB 7.0 MB/s eta 0:00:03\n",
      "     ----------------------                   24.9/44.9 MB 7.0 MB/s eta 0:00:03\n",
      "     ----------------------                   25.2/44.9 MB 7.0 MB/s eta 0:00:03\n",
      "     ----------------------                   25.5/44.9 MB 7.0 MB/s eta 0:00:03\n",
      "     -----------------------                  25.8/44.9 MB 7.0 MB/s eta 0:00:03\n",
      "     -----------------------                  26.1/44.9 MB 7.0 MB/s eta 0:00:03\n",
      "     -----------------------                  26.3/44.9 MB 7.0 MB/s eta 0:00:03\n",
      "     -----------------------                  26.6/44.9 MB 7.0 MB/s eta 0:00:03\n",
      "     -----------------------                  26.8/44.9 MB 7.0 MB/s eta 0:00:03\n",
      "     -----------------------                  26.8/44.9 MB 6.7 MB/s eta 0:00:03\n",
      "     ------------------------                 27.1/44.9 MB 6.6 MB/s eta 0:00:03\n",
      "     ------------------------                 27.4/44.9 MB 6.5 MB/s eta 0:00:03\n",
      "     ------------------------                 27.7/44.9 MB 6.5 MB/s eta 0:00:03\n",
      "     ------------------------                 28.0/44.9 MB 6.4 MB/s eta 0:00:03\n",
      "     -------------------------                28.2/44.9 MB 6.4 MB/s eta 0:00:03\n",
      "     -------------------------                28.5/44.9 MB 6.4 MB/s eta 0:00:03\n",
      "     -------------------------                28.8/44.9 MB 6.4 MB/s eta 0:00:03\n",
      "     -------------------------                29.1/44.9 MB 6.3 MB/s eta 0:00:03\n",
      "     --------------------------               29.4/44.9 MB 6.3 MB/s eta 0:00:03\n",
      "     --------------------------               29.5/44.9 MB 6.3 MB/s eta 0:00:03\n",
      "     --------------------------               29.7/44.9 MB 6.1 MB/s eta 0:00:03\n",
      "     --------------------------               30.0/44.9 MB 6.4 MB/s eta 0:00:03\n",
      "     ---------------------------              30.4/44.9 MB 6.2 MB/s eta 0:00:03\n",
      "     ---------------------------              30.7/44.9 MB 6.1 MB/s eta 0:00:03\n",
      "     ---------------------------              31.0/44.9 MB 6.1 MB/s eta 0:00:03\n",
      "     ---------------------------              31.4/44.9 MB 6.2 MB/s eta 0:00:03\n",
      "     ----------------------------             31.7/44.9 MB 6.2 MB/s eta 0:00:03\n",
      "     ----------------------------             32.1/44.9 MB 6.2 MB/s eta 0:00:03\n",
      "     ----------------------------             32.4/44.9 MB 6.2 MB/s eta 0:00:03\n",
      "     -----------------------------            32.7/44.9 MB 6.2 MB/s eta 0:00:02\n",
      "     -----------------------------            33.1/44.9 MB 6.2 MB/s eta 0:00:02\n",
      "     -----------------------------            33.4/44.9 MB 6.2 MB/s eta 0:00:02\n",
      "     ------------------------------           33.8/44.9 MB 6.2 MB/s eta 0:00:02\n",
      "     ------------------------------           34.1/44.9 MB 6.2 MB/s eta 0:00:02\n",
      "     ------------------------------           34.4/44.9 MB 6.2 MB/s eta 0:00:02\n",
      "     ------------------------------           34.8/44.9 MB 6.2 MB/s eta 0:00:02\n",
      "     -------------------------------          35.1/44.9 MB 6.2 MB/s eta 0:00:02\n",
      "     -------------------------------          35.5/44.9 MB 6.2 MB/s eta 0:00:02\n",
      "     -------------------------------          35.8/44.9 MB 6.2 MB/s eta 0:00:02\n",
      "     --------------------------------         36.2/44.9 MB 6.3 MB/s eta 0:00:02\n",
      "     --------------------------------         36.5/44.9 MB 6.4 MB/s eta 0:00:02\n",
      "     --------------------------------         36.8/44.9 MB 6.4 MB/s eta 0:00:02\n",
      "     ---------------------------------        37.2/44.9 MB 6.7 MB/s eta 0:00:02\n",
      "     ---------------------------------        37.5/44.9 MB 6.7 MB/s eta 0:00:02\n",
      "     ---------------------------------        37.8/44.9 MB 6.8 MB/s eta 0:00:02\n",
      "     ----------------------------------       38.2/44.9 MB 6.8 MB/s eta 0:00:01\n",
      "     ----------------------------------       38.5/44.9 MB 6.9 MB/s eta 0:00:01\n",
      "     ----------------------------------       38.9/44.9 MB 6.9 MB/s eta 0:00:01\n",
      "     ----------------------------------       39.2/44.9 MB 7.0 MB/s eta 0:00:01\n",
      "     -----------------------------------      39.5/44.9 MB 7.0 MB/s eta 0:00:01\n",
      "     -----------------------------------      39.9/44.9 MB 7.2 MB/s eta 0:00:01\n",
      "     -----------------------------------      40.2/44.9 MB 7.3 MB/s eta 0:00:01\n",
      "     ------------------------------------     40.6/44.9 MB 7.3 MB/s eta 0:00:01\n",
      "     ------------------------------------     40.9/44.9 MB 7.3 MB/s eta 0:00:01\n",
      "     ------------------------------------     41.2/44.9 MB 7.2 MB/s eta 0:00:01\n",
      "     -------------------------------------    41.6/44.9 MB 7.3 MB/s eta 0:00:01\n",
      "     -------------------------------------    41.9/44.9 MB 7.3 MB/s eta 0:00:01\n",
      "     -------------------------------------    42.3/44.9 MB 7.3 MB/s eta 0:00:01\n",
      "     --------------------------------------   42.7/44.9 MB 7.2 MB/s eta 0:00:01\n",
      "     --------------------------------------   43.0/44.9 MB 7.3 MB/s eta 0:00:01\n",
      "     --------------------------------------   43.4/44.9 MB 7.3 MB/s eta 0:00:01\n",
      "     --------------------------------------   43.5/44.9 MB 7.2 MB/s eta 0:00:01\n",
      "     ---------------------------------------  43.9/44.9 MB 7.2 MB/s eta 0:00:01\n",
      "     ---------------------------------------  44.3/44.9 MB 7.1 MB/s eta 0:00:01\n",
      "     ---------------------------------------  44.6/44.9 MB 7.2 MB/s eta 0:00:01\n",
      "     ---------------------------------------  44.9/44.9 MB 7.1 MB/s eta 0:00:01\n",
      "     ---------------------------------------  44.9/44.9 MB 7.1 MB/s eta 0:00:01\n",
      "     ---------------------------------------  44.9/44.9 MB 7.1 MB/s eta 0:00:01\n",
      "     ---------------------------------------  44.9/44.9 MB 7.1 MB/s eta 0:00:01\n",
      "     ---------------------------------------  44.9/44.9 MB 7.1 MB/s eta 0:00:01\n",
      "     ---------------------------------------- 44.9/44.9 MB 5.9 MB/s eta 0:00:00\n",
      "Requirement already satisfied: numpy>=1.21.2 in c:\\users\\anusha\\appdata\\local\\programs\\python\\python311\\lib\\site-packages (from opencv-contrib-python) (1.24.2)\n",
      "Installing collected packages: opencv-contrib-python\n",
      "Successfully installed opencv-contrib-python-4.7.0.72\n"
     ]
    }
   ],
   "source": [
    "pip install opencv-contrib-python"
   ]
  },
  {
   "cell_type": "code",
   "execution_count": 16,
   "id": "82540466",
   "metadata": {
    "scrolled": true
   },
   "outputs": [
    {
     "name": "stdout",
     "output_type": "stream",
     "text": [
      "Collecting imutils\n",
      "  Downloading imutils-0.5.4.tar.gz (17 kB)\n",
      "  Installing build dependencies: started\n",
      "  Installing build dependencies: finished with status 'done'\n",
      "  Getting requirements to build wheel: started\n",
      "  Getting requirements to build wheel: finished with status 'done'\n",
      "  Preparing metadata (pyproject.toml): started\n",
      "  Preparing metadata (pyproject.toml): finished with status 'done'\n",
      "Building wheels for collected packages: imutils\n",
      "  Building wheel for imutils (pyproject.toml): started\n",
      "  Building wheel for imutils (pyproject.toml): finished with status 'done'\n",
      "  Created wheel for imutils: filename=imutils-0.5.4-py3-none-any.whl size=25855 sha256=8e71b4c30bf15d6ee02daead0703521e645fb6d4083e6e1fe56e376570a88e2d\n",
      "  Stored in directory: c:\\users\\anusha\\appdata\\local\\pip\\cache\\wheels\\31\\d0\\2c\\87ce38f6052879e5b7b18f0f8b4a10ad2a9d210e908d449f16\n",
      "Successfully built imutils\n",
      "Installing collected packages: imutils\n",
      "Successfully installed imutils-0.5.4\n",
      "Note: you may need to restart the kernel to use updated packages.\n"
     ]
    }
   ],
   "source": [
    "pip install imutils"
   ]
  },
  {
   "cell_type": "code",
   "execution_count": 2,
   "id": "25d6e8d0",
   "metadata": {},
   "outputs": [],
   "source": [
    "import cv2 #opencv library"
   ]
  },
  {
   "cell_type": "code",
   "execution_count": 3,
   "id": "f1840456",
   "metadata": {},
   "outputs": [],
   "source": [
    "import imutils"
   ]
  },
  {
   "cell_type": "code",
   "execution_count": null,
   "id": "fabab59e",
   "metadata": {},
   "outputs": [],
   "source": [
    "#first install opencv and then imutils"
   ]
  },
  {
   "cell_type": "code",
   "execution_count": 4,
   "id": "17e848ea",
   "metadata": {},
   "outputs": [
    {
     "data": {
      "text/plain": [
       "array([[[113, 105,  76],\n",
       "        [113, 105,  76],\n",
       "        [113, 105,  76],\n",
       "        ...,\n",
       "        [113, 105,  76],\n",
       "        [113, 105,  76],\n",
       "        [113, 105,  76]],\n",
       "\n",
       "       [[113, 105,  76],\n",
       "        [113, 105,  76],\n",
       "        [113, 105,  76],\n",
       "        ...,\n",
       "        [113, 105,  76],\n",
       "        [113, 105,  76],\n",
       "        [113, 105,  76]],\n",
       "\n",
       "       [[113, 105,  76],\n",
       "        [113, 105,  76],\n",
       "        [113, 105,  76],\n",
       "        ...,\n",
       "        [113, 105,  76],\n",
       "        [113, 105,  76],\n",
       "        [113, 105,  76]],\n",
       "\n",
       "       ...,\n",
       "\n",
       "       [[113, 105,  76],\n",
       "        [113, 105,  76],\n",
       "        [113, 105,  76],\n",
       "        ...,\n",
       "        [113, 105,  76],\n",
       "        [113, 105,  76],\n",
       "        [113, 105,  76]],\n",
       "\n",
       "       [[113, 105,  76],\n",
       "        [113, 105,  76],\n",
       "        [113, 105,  76],\n",
       "        ...,\n",
       "        [113, 105,  76],\n",
       "        [113, 105,  76],\n",
       "        [113, 105,  76]],\n",
       "\n",
       "       [[113, 105,  76],\n",
       "        [113, 105,  76],\n",
       "        [113, 105,  76],\n",
       "        ...,\n",
       "        [113, 105,  76],\n",
       "        [113, 105,  76],\n",
       "        [214, 226, 233]]], dtype=uint8)"
      ]
     },
     "execution_count": 4,
     "metadata": {},
     "output_type": "execute_result"
    }
   ],
   "source": [
    "img = cv2.imread(\"cat.png\") # image read reading an image from directory\n",
    "img"
   ]
  },
  {
   "cell_type": "code",
   "execution_count": 5,
   "id": "d00ef67a",
   "metadata": {},
   "outputs": [],
   "source": [
    "import cv2\n",
    "mygrey = cv2.cvtColor(img,cv2.COLOR_BGR2GRAY) #converting color image to gray image"
   ]
  },
  {
   "cell_type": "code",
   "execution_count": 6,
   "id": "6e36c297",
   "metadata": {},
   "outputs": [
    {
     "data": {
      "text/plain": [
       "True"
      ]
     },
     "execution_count": 6,
     "metadata": {},
     "output_type": "execute_result"
    }
   ],
   "source": [
    "cv2.imwrite(\"my grey cat.png\",mygrey) #saving the read image in another name AND extension\n"
   ]
  },
  {
   "cell_type": "code",
   "execution_count": null,
   "id": "3e503b70",
   "metadata": {},
   "outputs": [],
   "source": [
    "cv2.imshow(\"ANUSHA'S ORIGINAL CAT\",img)\n",
    "cv2.imshow(\"ANUSHA'S GREY CAT\",mygrey) #display an image continuously\n",
    "threshImg = cv2.threshold(mygrey,25,255,cv2.THRESH_BINARY)[1]\n",
    "#0 is for the darkest color - black\n",
    "#255 is for the brightest color - white\n",
    "#0-255 range is for the grey color\n",
    "#[1] contains the image info\n",
    "cv2.imwrite(\"Threshold Image.jpg\",threshImg)\n",
    "cv2.imshow(\"ANUSHA'S THRESHOLD CAT\",threshImg)\n",
    "cv2.waitKey(0) #show until i press ctrlz\n",
    "cv2.destroyAllWindows() #frame opened will be destroyed"
   ]
  },
  {
   "cell_type": "code",
   "execution_count": 6,
   "id": "9b1669ec",
   "metadata": {},
   "outputs": [],
   "source": [
    "#we can have a file in jpg and save it in the form of png too"
   ]
  },
  {
   "cell_type": "code",
   "execution_count": 12,
   "id": "e3665a01",
   "metadata": {},
   "outputs": [],
   "source": []
  },
  {
   "cell_type": "code",
   "execution_count": 13,
   "id": "ce7d316e",
   "metadata": {},
   "outputs": [
    {
     "data": {
      "text/plain": [
       "True"
      ]
     },
     "execution_count": 13,
     "metadata": {},
     "output_type": "execute_result"
    }
   ],
   "source": []
  },
  {
   "cell_type": "code",
   "execution_count": 14,
   "id": "91419172",
   "metadata": {},
   "outputs": [],
   "source": []
  },
  {
   "cell_type": "code",
   "execution_count": null,
   "id": "ed252079",
   "metadata": {},
   "outputs": [],
   "source": []
  },
  {
   "cell_type": "code",
   "execution_count": null,
   "id": "db1e6303",
   "metadata": {},
   "outputs": [],
   "source": []
  },
  {
   "cell_type": "code",
   "execution_count": 1,
   "id": "24146dc8",
   "metadata": {},
   "outputs": [],
   "source": []
  },
  {
   "cell_type": "code",
   "execution_count": 4,
   "id": "1db63831",
   "metadata": {},
   "outputs": [],
   "source": []
  },
  {
   "cell_type": "code",
   "execution_count": 5,
   "id": "d9c83b2c",
   "metadata": {},
   "outputs": [
    {
     "data": {
      "text/plain": [
       "True"
      ]
     },
     "execution_count": 5,
     "metadata": {},
     "output_type": "execute_result"
    }
   ],
   "source": []
  },
  {
   "cell_type": "code",
   "execution_count": 6,
   "id": "2532cc2b",
   "metadata": {},
   "outputs": [],
   "source": []
  },
  {
   "cell_type": "code",
   "execution_count": 7,
   "id": "28238cd0",
   "metadata": {},
   "outputs": [],
   "source": []
  },
  {
   "cell_type": "code",
   "execution_count": null,
   "id": "593a7fa2",
   "metadata": {},
   "outputs": [],
   "source": []
  },
  {
   "cell_type": "code",
   "execution_count": null,
   "id": "7f99d5a3",
   "metadata": {},
   "outputs": [],
   "source": []
  },
  {
   "cell_type": "code",
   "execution_count": null,
   "id": "39193d03",
   "metadata": {},
   "outputs": [],
   "source": []
  }
 ],
 "metadata": {
  "kernelspec": {
   "display_name": "Python 3 (ipykernel)",
   "language": "python",
   "name": "python3"
  },
  "language_info": {
   "codemirror_mode": {
    "name": "ipython",
    "version": 3
   },
   "file_extension": ".py",
   "mimetype": "text/x-python",
   "name": "python",
   "nbconvert_exporter": "python",
   "pygments_lexer": "ipython3",
   "version": "3.11.2"
  }
 },
 "nbformat": 4,
 "nbformat_minor": 5
}
